{
 "cells": [
  {
   "cell_type": "markdown",
   "metadata": {},
   "source": [
    "# The redshift evolution of the binary black hole merger rate:  a weighty matter\n",
    "\n",
    "***\n",
    "***\n",
    "\n",
    "# Index \n",
    "\n",
    "This folder contains all the notebooks necessary to recreate the Figures in [van Son et al. 2021](https://ui.adsabs.harvard.edu/abs/2021arXiv211001634V/abstract). \n",
    "The data needed to reproduce these figures is freely available at Zenodo: [![DOI](https://zenodo.org/badge/DOI/10.5281/zenodo.5544170.svg)](https://doi.org/10.5281/zenodo.5544170)\n",
    "\n",
    "\n",
    "\n"
   ]
  },
  {
   "cell_type": "markdown",
   "metadata": {},
   "source": [
    "Required dependencies:\n",
    "    Anaconda\n",
    "    Seaborne        \n",
    "    "
   ]
  },
  {
   "cell_type": "code",
   "execution_count": 1,
   "metadata": {},
   "outputs": [],
   "source": [
    "import HelperFunctions as func"
   ]
  },
  {
   "cell_type": "markdown",
   "metadata": {},
   "source": [
    "## Figure 1:  Cartoon depiction of channels\n",
    "\n",
    "This Cartoon is not created in a notebook, but is available in the plots folder at \n",
    "`../plots/CartoonBoth1.pdf`\n",
    "\n"
   ]
  },
  {
   "cell_type": "code",
   "execution_count": 2,
   "metadata": {},
   "outputs": [
    {
     "data": {
      "text/html": [
       "<iframe src=../plots/CartoonBoth1.pdf width=350 height=500></iframe>"
      ],
      "text/latex": [
       "\\includegraphics[width=1.0\\textwidth]{../plots/CartoonBoth1.pdf}"
      ],
      "text/plain": [
       "<HelperFunctions.PDF at 0x7fe959d16a58>"
      ]
     },
     "metadata": {},
     "output_type": "display_data"
    }
   ],
   "source": [
    "display(func.PDF('../plots/CartoonBoth1.pdf',size=(350,500)) )"
   ]
  },
  {
   "cell_type": "markdown",
   "metadata": {},
   "source": [
    "## Figure 2:  MBH delay time distributions\n",
    "\n",
    "The plot in this figure can be remade through [2_Histograms_Mbh_tdelay.ipynb](./2_Histograms_Mbh_tdelay.ipynb)\n",
    "Below we show the end result for the low metallicity selection\n",
    "<table><tr>\n",
    "<td> <img src=\"../plots/png_versions/N1e7_All_lowZMass_delaytime.png\" width=\"500\"/> </td>\n",
    "<td> <img src=\"../plots/png_versions/N1e7_CE_lowZMass_delaytime.png\" width=\"500\"/> </td>\n",
    "<td> <img src=\"../plots/png_versions/N1e7_RLOF_lowZMass_delaytime.png\" width=\"500\"/> </td>\n",
    "</tr></table>\n"
   ]
  },
  {
   "cell_type": "markdown",
   "metadata": {},
   "source": [
    "## Figure 3:  Intrinsic merger rate density in the plane of $M_{BH}$ and  merger redshift\n",
    "\n",
    "The plot in this figure can be remade through [3_IntrinsicRate_Mbh_z.ipynb](./3_IntrinsicRate_Mbh_z.ipynb)\n",
    "\n",
    "<table><tr>\n",
    "<td> <img src=\"../plots/png_versions/N1e7_AllMass_redshift_M_moreMassive.png\" width=\"500\"/> </td>\n",
    "<td> <img src=\"../plots/png_versions/N1e7_CEMass_redshift_M_moreMassive.png\" width=\"500\"/> </td>\n",
    "<td> <img src=\"../plots/png_versions/N1e7_RLOFMass_redshift_M_moreMassive.png\" width=\"500\"/> </td>\n",
    "</tr></table>\n",
    "\n",
    "\n"
   ]
  },
  {
   "cell_type": "markdown",
   "metadata": {},
   "source": [
    "## Figure 4: Fractional contribution of formation channels\n",
    "\n",
    "The plot in this figure can be remade through [4_FractionalContributionsChannels.ipynb](./4_FractionalContributionsChannels.ipynb)\n",
    "\n",
    "<table><tr>\n",
    "<td> <img src=\"../plots/png_versions/N1e7_Frac_Intrinsic_densRate_redshift.png\" width=\"500\"/> </td>\n",
    "<td> <img src=\"../plots/png_versions/N1e7_Frac_Intrinsic_permassRate_redshift.png\" width=\"500\"/> </td>\n",
    "</tr></table>\n",
    "\n",
    "\n"
   ]
  },
  {
   "cell_type": "markdown",
   "metadata": {},
   "source": [
    "## Figure 5:  the BH primary mass distribution\n",
    "\n",
    "The plot in this figure can be remade through [5_MassDitributions.ipynb](./5_MassDitributions.ipynb)\n",
    "\n",
    "<table><tr>\n",
    "<td> <img src=\"../plots/png_versions/N1e7_logMass_dist_by_redshift.png\" width=\"500\"/> </td>\n",
    "<td> <img src=\"../plots/png_versions/N1e7__normed_Mass_dist_by_redshift.png\" width=\"500\"/> </td>\n",
    "</tr></table>\n",
    "\n",
    "\n"
   ]
  },
  {
   "cell_type": "markdown",
   "metadata": {},
   "source": [
    "## Figure 6:  the BH primary mass distribution split by metallicity\n",
    "\n",
    "The plot in this figure can be remade through [6_MassDistribution_split_by_Z.ipynb](./6_MassDistribution_split_by_Z.ipynb)\n",
    "\n",
    "<img src=\"../plots/png_versions/Mass_dist_by_metallicityN1e7_0z_leq2.png\" width=\"1000\"/>\n",
    "\n",
    "\n"
   ]
  },
  {
   "cell_type": "markdown",
   "metadata": {},
   "source": [
    "## Figure 7:  the BH primary mass distribution split by metallicity\n",
    "\n",
    "The plot in this figure can be remade through [7_Intrinsic_BBH_merger_rate_per_redshift.ipynb](./7_Intrinsic_BBH_merger_rate_per_redshift.ipynb)\n",
    "\n",
    "<img src=\"../plots/png_versions/Rate_redshift_N1e7_Normalized_Rate_source.png\" width=\"1000\"/>\n",
    "\n",
    "\n",
    "\n"
   ]
  },
  {
   "cell_type": "markdown",
   "metadata": {},
   "source": [
    "## Figure 8: \n",
    "\n",
    "The plot in this figure can be remade through [8_OtherObservables.ipynb](./8_OtherObservables.ipynb)\n",
    "\n",
    "<table><tr>\n",
    "<td> <img src=\"../plots/png_versions/N1e7_q_final_formdist.png\" width=\"500\"/> </td>\n",
    "<td> <img src=\"../plots/png_versions/N1e7_M_lessMassive_formdist.png\" width=\"500\"/> </td>\n",
    "</tr></table>\n"
   ]
  },
  {
   "cell_type": "markdown",
   "metadata": {},
   "source": [
    "# Appendix A:\n",
    "# Figure 9\n",
    "\n",
    "\n",
    "The plot in this figure can be remade through [9_DelayTimeDistributions.ipynb](./9_DelayTimeDistributions.ipynb)\n",
    "\n",
    "<table><tr>\n",
    "<td> <img src=\"../plots/png_versions/N1e7_logtDelayGyr_formdist.png\" width=\"500\"/> </td>\n",
    "<td> <img src=\"../plots/png_versions/N1e7_tDelayGyr_formdist.png\" width=\"500\"/> </td>\n",
    "</tr></table>\n",
    "\n"
   ]
  },
  {
   "cell_type": "markdown",
   "metadata": {},
   "source": [
    "# Appendix C:\n",
    "# Figure 10\n",
    "\n",
    "\n",
    "The plot in this figure can be remade through [10_ChripMassDistributions.ipynb](./10_ChripMassDistributions.ipynb)\n",
    "\n",
    "<table><tr>\n",
    "<td> <img src=\"../plots/png_versions/N1e7_AllMass_redshift_Mchirp.png\" width=\"500\"/> </td>\n",
    "<td> <img src=\"../plots/png_versions/N1e7_CEMass_redshift_Mchirp.png\" width=\"500\"/> </td>\n",
    "<td> <img src=\"../plots/png_versions/N1e7_RLOFMass_redshift_Mchirp.png\" width=\"500\"/> </td>\n",
    "</tr></table>\n",
    "\n"
   ]
  },
  {
   "cell_type": "markdown",
   "metadata": {},
   "source": [
    "# Appendix E:\n",
    "# Figure 14\n",
    "\n",
    "\n",
    "The plot in this figure can be remade through [14_DetailedEvolutionExample.ipynb](./14_DetailedEvolutionExample.ipynb)\n",
    "\n",
    "<img src=\"../plots/png_versions/Detail29118.png\" width=\"1000\"/> \n",
    "\n",
    "\n"
   ]
  },
  {
   "cell_type": "code",
   "execution_count": null,
   "metadata": {},
   "outputs": [],
   "source": []
  }
 ],
 "metadata": {
  "kernelspec": {
   "display_name": "Python 3",
   "language": "python",
   "name": "python3"
  },
  "language_info": {
   "codemirror_mode": {
    "name": "ipython",
    "version": 3
   },
   "file_extension": ".py",
   "mimetype": "text/x-python",
   "name": "python",
   "nbconvert_exporter": "python",
   "pygments_lexer": "ipython3",
   "version": "3.7.1"
  }
 },
 "nbformat": 4,
 "nbformat_minor": 4
}
