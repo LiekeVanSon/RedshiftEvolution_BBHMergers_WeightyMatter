{
 "cells": [
  {
   "cell_type": "markdown",
   "metadata": {},
   "source": [
    "# The redshift evolution of the binary black hole merger rate:  a weighty matter\n",
    "\n",
    "***\n",
    "***\n",
    "\n",
    "# Index \n",
    "\n",
    "This folder contains all the notebooks necessary to recreate the Figures in [van Son et al. 2021](https://ui.adsabs.harvard.edu/abs/2021arXiv211001634V/abstract). \n",
    "The data needed to reproduce these figures is freely available at Zenodo: [![DOI](https://zenodo.org/badge/DOI/10.5281/zenodo.5544170.svg)](https://doi.org/10.5281/zenodo.5544170)\n",
    "\n",
    "\n",
    "\n"
   ]
  },
  {
   "cell_type": "markdown",
   "metadata": {},
   "source": [
    "Required dependencies:\n",
    "    Anaconda\n",
    "    Seaborne        \n",
    "    "
   ]
  },
  {
   "cell_type": "code",
   "execution_count": 2,
   "metadata": {},
   "outputs": [],
   "source": [
    "import HelperFunctions as func\n",
    "#########################################\n",
    "# Class to show PDF images\n",
    "#########################################\n",
    "class PDF(object):\n",
    "  def __init__(self, pdf, size=(200,200)):\n",
    "    self.pdf = pdf\n",
    "    self.size = size\n",
    "\n",
    "  def _repr_html_(self):\n",
    "    return '<iframe src={0} width={1[0]} height={1[1]}></iframe>'.format(self.pdf, self.size)\n",
    "\n",
    "  def _repr_latex_(self):\n",
    "    return r'\\includegraphics[width=1.0\\textwidth]{{{0}}}'.format(self.pdf)"
   ]
  },
  {
   "cell_type": "markdown",
   "metadata": {},
   "source": [
    "## Figure 1:  Cartoon depiction of channels\n",
    "\n",
    "This Cartoon is not created in a notebook, but is available in the plots folder at \n",
    "`../plots/CartoonBoth1.pdf`\n",
    "\n"
   ]
  },
  {
   "cell_type": "code",
   "execution_count": 3,
   "metadata": {},
   "outputs": [
    {
     "data": {
      "text/html": [
       "<iframe src=../plots/CartoonBoth1.pdf width=350 height=500></iframe>"
      ],
      "text/latex": [
       "\\includegraphics[width=1.0\\textwidth]{../plots/CartoonBoth1.pdf}"
      ],
      "text/plain": [
       "<__main__.PDF at 0x7fe11f64d860>"
      ]
     },
     "metadata": {},
     "output_type": "display_data"
    }
   ],
   "source": [
    "display(PDF('../plots/CartoonBoth1.pdf',size=(350,500)) )"
   ]
  },
  {
   "cell_type": "markdown",
   "metadata": {},
   "source": [
    "## Figure 2:  MBH delay time distributions\n",
    "\n",
    "The plot in this figure can be remade through [2_Histograms_Mbh_tdelay.ipynb](./2_Histograms_Mbh_tdelay.ipynb)\n",
    "Below we show the end result for the low metallicity selection\n"
   ]
  },
  {
   "cell_type": "code",
   "execution_count": 4,
   "metadata": {},
   "outputs": [
    {
     "data": {
      "text/html": [
       "<iframe src=../plots/N1e7_All_lowZMass_delaytime.pdf width=410 height=350></iframe>"
      ],
      "text/latex": [
       "\\includegraphics[width=1.0\\textwidth]{../plots/N1e7_All_lowZMass_delaytime.pdf}"
      ],
      "text/plain": [
       "<__main__.PDF at 0x7fe1214a7e80>"
      ]
     },
     "metadata": {},
     "output_type": "display_data"
    },
    {
     "data": {
      "text/html": [
       "<iframe src=../plots/N1e7_CE_lowZMass_delaytime.pdf width=410 height=350></iframe>"
      ],
      "text/latex": [
       "\\includegraphics[width=1.0\\textwidth]{../plots/N1e7_CE_lowZMass_delaytime.pdf}"
      ],
      "text/plain": [
       "<__main__.PDF at 0x7fe121495f28>"
      ]
     },
     "metadata": {},
     "output_type": "display_data"
    },
    {
     "data": {
      "text/html": [
       "<iframe src=../plots/N1e7_RLOF_lowZMass_delaytime.pdf width=410 height=350></iframe>"
      ],
      "text/latex": [
       "\\includegraphics[width=1.0\\textwidth]{../plots/N1e7_RLOF_lowZMass_delaytime.pdf}"
      ],
      "text/plain": [
       "<__main__.PDF at 0x7fe121495e80>"
      ]
     },
     "metadata": {},
     "output_type": "display_data"
    }
   ],
   "source": [
    "display(PDF('../plots/N1e7_All_lowZMass_delaytime.pdf',size=(410,350)) )\n",
    "display(PDF('../plots/N1e7_CE_lowZMass_delaytime.pdf',size=(410,350)) )\n",
    "display(PDF('../plots/N1e7_RLOF_lowZMass_delaytime.pdf',size=(410,350)) )\n",
    "\n"
   ]
  },
  {
   "cell_type": "markdown",
   "metadata": {},
   "source": [
    "## Figure 3:  Intrinsic merger rate density in the plane of $M_{BH}$ and  merger redshift\n",
    "\n",
    "The plot in this figure can be remade through [3_IntrinsicRate_Mbh_z.ipynb](./3_IntrinsicRate_Mbh_z.ipynb)\n"
   ]
  },
  {
   "cell_type": "code",
   "execution_count": 5,
   "metadata": {},
   "outputs": [
    {
     "data": {
      "text/html": [
       "<iframe src=../plots/N1e7_AllMass_redshift_M_moreMassive.pdf width=410 height=350></iframe>"
      ],
      "text/latex": [
       "\\includegraphics[width=1.0\\textwidth]{../plots/N1e7_AllMass_redshift_M_moreMassive.pdf}"
      ],
      "text/plain": [
       "<__main__.PDF at 0x7fe1214a7cf8>"
      ]
     },
     "metadata": {},
     "output_type": "display_data"
    },
    {
     "data": {
      "text/html": [
       "<iframe src=../plots/N1e7_CEMass_redshift_M_moreMassive.pdf width=410 height=350></iframe>"
      ],
      "text/latex": [
       "\\includegraphics[width=1.0\\textwidth]{../plots/N1e7_CEMass_redshift_M_moreMassive.pdf}"
      ],
      "text/plain": [
       "<__main__.PDF at 0x7fe1214a7dd8>"
      ]
     },
     "metadata": {},
     "output_type": "display_data"
    },
    {
     "data": {
      "text/html": [
       "<iframe src=../plots/N1e7_RLOFMass_redshift_M_moreMassive.pdf width=410 height=350></iframe>"
      ],
      "text/latex": [
       "\\includegraphics[width=1.0\\textwidth]{../plots/N1e7_RLOFMass_redshift_M_moreMassive.pdf}"
      ],
      "text/plain": [
       "<__main__.PDF at 0x7fe11f5bf208>"
      ]
     },
     "metadata": {},
     "output_type": "display_data"
    }
   ],
   "source": [
    "display(PDF('../plots/N1e7_AllMass_redshift_M_moreMassive.pdf',size=(410,350)) )\n",
    "display(PDF('../plots/N1e7_CEMass_redshift_M_moreMassive.pdf',size=(410,350)) )\n",
    "display(PDF('../plots/N1e7_RLOFMass_redshift_M_moreMassive.pdf',size=(410,350)) )\n",
    "\n"
   ]
  },
  {
   "cell_type": "code",
   "execution_count": null,
   "metadata": {},
   "outputs": [],
   "source": []
  }
 ],
 "metadata": {
  "kernelspec": {
   "display_name": "Python 3",
   "language": "python",
   "name": "python3"
  },
  "language_info": {
   "codemirror_mode": {
    "name": "ipython",
    "version": 3
   },
   "file_extension": ".py",
   "mimetype": "text/x-python",
   "name": "python",
   "nbconvert_exporter": "python",
   "pygments_lexer": "ipython3",
   "version": "3.7.1"
  }
 },
 "nbformat": 4,
 "nbformat_minor": 4
}
