{
 "cells": [
  {
   "cell_type": "markdown",
   "metadata": {},
   "source": [
    "# The redshift evolution of the BBH merger rate: \"a weighty matter\"\n",
    "\n",
    "## Merger rate Mbh-z\n",
    "\n",
    "\n"
   ]
  },
  {
   "cell_type": "markdown",
   "metadata": {},
   "source": [
    "## Imports and definitions:"
   ]
  },
  {
   "cell_type": "code",
   "execution_count": 6,
   "metadata": {},
   "outputs": [
    {
     "data": {
      "text/html": [
       "<style>.container { width:100% !important; }</style>"
      ],
      "text/plain": [
       "<IPython.core.display.HTML object>"
      ]
     },
     "metadata": {},
     "output_type": "display_data"
    }
   ],
   "source": [
    "######################################\n",
    "## Imports\n",
    "import numpy as np\n",
    "import h5py as h5\n",
    "\n",
    "from astropy.table import Table, Column\n",
    "import astropy.units as u\n",
    "from astropy import constants as const\n",
    "\n",
    "import matplotlib.pyplot as plt\n",
    "import seaborn as sns\n",
    "import astropy.units as u\n",
    "\n",
    "from matplotlib import ticker, cm\n",
    "\n",
    "from scipy import stats\n",
    "\n",
    "# Chosen cosmology \n",
    "from astropy.cosmology import WMAP9 as cosmo\n",
    "from astropy.cosmology import z_at_value\n",
    "\n",
    "# Extra python functions\n",
    "import HelperFunctions as func\n",
    "\n",
    "######################################\n",
    "## locations\n",
    "save_loc    =  '../plots/'\n",
    "data_dir    = '../output/'\n",
    "\n",
    "# This will be put in front of the name for every figure we safe \n",
    "sim_save_str = 'N1e7_'\n",
    "\n",
    "######################################\n",
    "## PLOT setttings\n",
    "plt.rc('font', family='serif')\n",
    "from matplotlib import rc\n",
    "import matplotlib\n",
    "matplotlib.rcParams['mathtext.fontset'] = 'stix'\n",
    "matplotlib.rcParams['font.family'] = 'STIXGeneral'\n",
    "rc('font',**{'family':'sans-serif','sans-serif':['Helvetica']})\n",
    "rc('text', usetex=True)\n",
    "fsize, SMALL_SIZE, MEDIUM_SIZE, BIGGER_SIZE = 30,25,25,30\n",
    "for obj in ['axes','xtick','ytick']:\n",
    "    plt.rc(obj, labelsize=MEDIUM_SIZE)          # controls default text sizes\n",
    "for obj in ['figure','axes']:\n",
    "    plt.rc(obj, titlesize=BIGGER_SIZE)    # fontsize of the tick labels\n",
    "plt.rc('font', size=MEDIUM_SIZE)          # controls default text sizes\n",
    "plt.rc('legend', fontsize=SMALL_SIZE)    # legend fontsize\n",
    "\n",
    "\n",
    "######################################\n",
    "## Widescreen jupyter notebook\n",
    "from IPython.core.display import display, HTML\n",
    "display(HTML(\"<style>.container { width:100% !important; }</style>\"))"
   ]
  },
  {
   "cell_type": "markdown",
   "metadata": {},
   "source": [
    "# Read your data\n",
    "\n",
    "the function `read_data` is part of `HelperFunctions.py` and reads the hdf5 file containing the BBH population data and merger rates \n",
    "\n",
    "The Bool \"DCO_mask\" filters for BBHs:  \n",
    "1. with an inspiral time that is less than the age of the Universe\n",
    "2. excludes systems that experienced a CE from a HG donor (i.e. the flag `Optimistic_CE == False`)\n",
    "3. excludes systems that experienced RLOF immediately following a CE (i.e. the flag `Immediate_RLOF>CE == False`)\n",
    "\n",
    "In other words, we treat 2. and 3. as stellar mergers and exclude them from the rest of our analysis\n",
    "\n",
    "## & Filter your data\n",
    "Select merging BBHs using the `DCO_mask`, and aditionally exclude systems that evolve Chemically homogeneous\n"
   ]
  },
  {
   "cell_type": "code",
   "execution_count": 2,
   "metadata": {},
   "outputs": [
    {
     "name": "stdout",
     "output_type": "stream",
     "text": [
      "../output/COMPAS_Output_wWeights.h5\n"
     ]
    }
   ],
   "source": [
    "####################################################\n",
    "## Reading file ##\n",
    "rate_key      = 'Rates_mu00.025_muz-0.05_alpha-1.77_sigma01.125_sigmaz0.05_zBinned'\n",
    "File_location = data_dir+'COMPAS_Output_wWeights.h5'\n",
    "print(File_location)\n",
    "\n",
    "####################################################\n",
    "DCO, DCO_mask, redshifts, Average_SF_mass_needed, intrinsic_rate_density, intrinsic_rate_density_z0, = func.read_data(loc = File_location, rate_key = rate_key)\n",
    "# DCO.info()\n",
    "\n",
    "##########################################################\n",
    "# Select merging BBHs w.o. CHE only\n",
    "##########################################################\n",
    "nonCHE_bool         = DCO['Stellar_Type@ZAMS(1)'] != 16\n",
    "rate_nonCHE_bool    = DCO['Stellar_Type@ZAMS(1)'][DCO_mask] != 16\n",
    "\n",
    "# Filter both the BBH table and the intrinsic rate data\n",
    "merging_BBH         = DCO[DCO_mask * nonCHE_bool]\n",
    "Red_intr_rate_dens  = intrinsic_rate_density[rate_nonCHE_bool, :]\n",
    "\n",
    "# print(np.shape(Red_intr_rate_dens), np.shape(merging_BBH))\n"
   ]
  },
  {
   "cell_type": "markdown",
   "metadata": {},
   "source": [
    "# Fractional contribution of channels to rate\n",
    "\n",
    "assuming a perfect detector"
   ]
  },
  {
   "cell_type": "code",
   "execution_count": 3,
   "metadata": {
    "scrolled": false
   },
   "outputs": [],
   "source": [
    "\n",
    "def plot_fractional_rate(table, WEIGHTS, x_key = None, redshift_list = redshifts, \n",
    "                         fill = True, log = False,  z_firstSF = 10, show_hist = True,\n",
    "                       kde_width = 0.15, KDE_xpointw = None, bins = np.arange(0,10,0.5), \n",
    "                         tmin=0, tmax = 10, x_redshift = True, \n",
    "                       ylab = '$R_{\\mathrm{BBH}} \\ \\mathrm{[Gpc^{-3} yr^{-1}]}$',\n",
    "                       xlab = '$M_{\\mathrm{tot}} \\ \\mathrm{[M_{\\odot}]}$',\n",
    "                       save_plot = False, save_str = '',zorders = [2,0,1,3],\n",
    "                       y_lim=(0.1, 1e4), FIGSIZE=(16,8),\n",
    "                       colors = ['#488496', '#73bdb3', '#e388b0'], hatches = ['/', 'x', 'o']):\n",
    "    \n",
    "    \"\"\"\n",
    "    Plot 2D histogram of average rate density in Mbh-redshift plane \n",
    "\n",
    "    Args:\n",
    "        table                    --> [astropy table] table containing your merging BBHs\n",
    "        intrinsic_rate_density   --> [bool] \n",
    "        Crude_z_binsize          --> [float] \n",
    "        \n",
    "        Vmin                     --> [float] \n",
    "        Vmax                     --> [float] \n",
    "        tmin, tmax               --> [float, float] \n",
    "        x_redshift               --> [bool] \n",
    "        contour_levels           --> [list of floats] \n",
    "        title_str                --> [string] \n",
    "        Label                    --> [string] \n",
    "        ylabel                   --> [string] \n",
    "        colormap                 --> [cmap] \n",
    "\n",
    "    Returns:\n",
    "        matplotlib figure  -->  Figure of 2D histogram\n",
    "\n",
    "    \"\"\"\n",
    "\n",
    "    # centers of redshif bins\n",
    "    center_z = (redshift_list[:-1] + redshift_list[1:])/2.\n",
    "    \n",
    "    if KDE_xpointw == None:\n",
    "        KDE_xpointw = kde_width\n",
    "    ##############################\n",
    "    # Bools and selections\n",
    "    Bool_list = [table['CE_Event_Count'] > 0, table['CE_Event_Count'] == 0 ]\n",
    "    labels    = ['$\\mathrm{CE \\ channel}$', '$\\mathrm{Stable \\ RLOF}$']\n",
    "\n",
    "    ##############################\n",
    "    # plotting stuff\n",
    "    linestyles = ['-', '--', '-.', ':', '-']\n",
    "\n",
    "    ##############################\n",
    "    fig, ax = plt.subplots(figsize = FIGSIZE)\n",
    "\n",
    "    \n",
    "    # Calculate the volume of the fine redshift bins\n",
    "    fine_volumes       = cosmo.comoving_volume(redshifts).to(u.Gpc**3).value\n",
    "    fine_shell_volumes = np.diff(fine_volumes) #same len in z dimension as weight\n",
    "\n",
    "    # Convert to number of BBH merging in each shell\n",
    "    N_BBH_zbin_det_frame    = (WEIGHTS[:,:] * fine_shell_volumes[:]* 1./(1. + center_z))\n",
    "    \n",
    "    ##########################################################################\n",
    "    if x_redshift:\n",
    "        #### Age Universe Axis ####\n",
    "        ax2 = ax.twiny()\n",
    "        # centers of redshif bins\n",
    "        x_array     = center_z\n",
    "        sum_over_ax =  0\n",
    "        ###################\n",
    "        #Plotvalues\n",
    "        ax.set_xlabel('$\\mathrm{merger \\ redshift}, \\ z$', fontsize = 30)\n",
    "\n",
    "        # Find lookback location for each of our redshifts\n",
    "        redshift_tick_list = [0, 2, 4, 6, 8, 10]\n",
    "        z_firstSF = 10\n",
    "        t_firstSF = cosmo.lookback_time(z_firstSF).value\n",
    "        # And annotate the tick labels :)\n",
    "        ax2.set_xticks([z for z in redshift_tick_list])\n",
    "        ax2.set_xticklabels(['${:.1f}$'.format(t_firstSF - cosmo.lookback_time(z).value) for z in redshift_tick_list])\n",
    "        ax2.set_xlabel('$\\mathrm{time \\ since} \\ z=10 \\ \\mathrm{[Gyr]}$', fontsize = 30, labelpad=15)\n",
    "        \n",
    "        # Make sure top and bottom axis are lined up (have same limmits)\n",
    "        ax.set_xlim(tmin, tmax)\n",
    "        ax2.set_xlim(tmin, tmax)\n",
    "        \n",
    "    else:\n",
    "        print('no z ax')\n",
    "        x_array     = table[x_key]\n",
    "        sum_over_ax =  1\n",
    "        \n",
    "\n",
    "    ##########################################################################\n",
    "    \n",
    "    ##############################\n",
    "    # First get the total hist of rates\n",
    "    all_Weight         = np.sum(N_BBH_zbin_det_frame[:,:], axis = sum_over_ax)  \n",
    "    all_hist, bin_edge = np.histogram(x_array, weights = all_Weight, bins=bins)\n",
    "    \n",
    "    Bottoms = np.full(len(bins)-1, 0)\n",
    "\n",
    "    ##############################\n",
    "    # Then split by mass/CE bins\n",
    "    for b, Bool in enumerate(Bool_list):\n",
    "        # Select BHs with CE or stable RLOF\n",
    "        if x_redshift:\n",
    "            x_vals       = x_array\n",
    "        else:\n",
    "            x_vals       = x_array[Bool]\n",
    "        m_Weight         = np.sum(N_BBH_zbin_det_frame[Bool,:], axis = sum_over_ax)  \n",
    "\n",
    "        print('N in bool', sum(Bool), 'ESS', sum(m_Weight)**2/sum(m_Weight**2) )\n",
    "        \n",
    "        ########################\n",
    "        # Get the Hist    \n",
    "        hist, bin_edge = np.histogram(x_vals, weights = m_Weight, bins=bins)\n",
    "        center_bins = (bin_edge[:-1] + bin_edge[1:])/2.\n",
    "        # And the KDE\n",
    "        kernel = stats.gaussian_kde(x_vals, bw_method=kde_width, weights=m_Weight)\n",
    "        binwidth = np.diff(bin_edge)\n",
    "        \n",
    "        ########################\n",
    "        # Show the fraction of the total rate\n",
    "        y_vals = hist/all_hist\n",
    "        print(labels[b])\n",
    "        # Add a line for the fraction\n",
    "        #ax.plot(center_bins, y_vals, label = None, \n",
    "        #        alpha=1., c=colors[b], lw = 4., zorder = zorders[b]) \n",
    "        if show_hist:\n",
    "            ax.bar(center_bins, y_vals, width= np.diff(bin_edge), label = labels[b], \n",
    "                   alpha=1.,  color='white', fill=True, edgecolor=colors[b], bottom = Bottoms,\n",
    "                   lw = 2., zorder = zorders[b], hatch = hatches[b]) \n",
    "        if fill:\n",
    "            ax.fill_between(center_bins, y1=Bottoms, y2=y_vals+Bottoms, color=colors[b], alpha = 0.2, zorder = zorders[b]+1)\n",
    "            # exclude empty bins\n",
    "            noNANBottoms, noNANy_vals, noNAN_bins, binwidth = Bottoms[~np.isnan(Bottoms)], y_vals[~np.isnan(y_vals)], center_bins[~np.isnan(y_vals)], np.diff(center_bins)[0]\n",
    "            #fill the first half bin\n",
    "            ax.fill_between([noNAN_bins[0]-binwidth/2.,noNAN_bins[0]], y1=Bottoms[0], y2=y_vals[0]+Bottoms[0], color=colors[b], alpha = 0.2, zorder = zorders[b]+1)\n",
    "            #and the last half bin (make sure to exclude nans)\n",
    "            ax.fill_between([noNAN_bins[-1]+binwidth/2., noNAN_bins[-1]], y1=noNANBottoms[-1], y2=noNANy_vals[-1]+noNANBottoms[-1],\n",
    "                            color=colors[b], alpha = 0.2, zorder = zorders[b]+1)\n",
    "        Bottoms = y_vals\n",
    "\n",
    "\n",
    "\n",
    "    ##############################\n",
    "    # plot values\n",
    "    ax.set_ylim(y_lim)\n",
    "    ax.set_xlabel(xlab, fontsize = 30)\n",
    "    ax.set_ylabel(ylab, fontsize = 30)\n",
    "    if log:\n",
    "        ax.set_yscale('log')\n",
    "    leg = ax.legend(fontsize = 20)#title='$\\mathrm{Primary \\ BH \\ Mass}$',\n",
    "    \n",
    "\n",
    "    if save_plot:\n",
    "        print('saving ' + save_loc+'/Rate_redshift_'+save_str+'.pdf')\n",
    "        plt.savefig(save_loc+'/'+save_str+'Rate_redshift.pdf', bbox_inches='tight')\n",
    "\n",
    "\n",
    "    ax.patch.set_visible(False)\n",
    "    plt.show()\n",
    "\n",
    "\n",
    "\n",
    "\n",
    "\n"
   ]
  },
  {
   "cell_type": "code",
   "execution_count": 4,
   "metadata": {},
   "outputs": [
    {
     "name": "stdout",
     "output_type": "stream",
     "text": [
      "N in bool 1321375 ESS 93.97409242044638\n",
      "$\\mathrm{CE \\ channel}$\n"
     ]
    },
    {
     "name": "stderr",
     "output_type": "stream",
     "text": [
      "/Users/lieke/anaconda3/lib/python3.7/site-packages/ipykernel_launcher.py:120: RuntimeWarning: invalid value encountered in true_divide\n"
     ]
    },
    {
     "name": "stdout",
     "output_type": "stream",
     "text": [
      "N in bool 931112 ESS 79.03894607100197\n",
      "$\\mathrm{Stable \\ RLOF}$\n",
      "saving ../plots//Rate_redshift_N1e7_Frac_Intrinsic_dens.pdf\n"
     ]
    },
    {
     "data": {
      "image/png": "[encoded data removed]",
      "text/plain": [
       "<Figure size 864x504 with 2 Axes>"
      ]
     },
     "metadata": {
      "needs_background": "light"
     },
     "output_type": "display_data"
    }
   ],
   "source": [
    "# Fractional rate per redshift\n",
    "plot_fractional_rate(merging_BBH, Red_intr_rate_dens, redshift_list = redshifts, \n",
    "                   show_hist = True, fill = True, \n",
    "                   bins = np.arange(0,14.5,0.5), \n",
    "                     tmin=0, tmax = 10, x_redshift = True, xlab = '$\\mathrm{merger \\ redshift}, z$',\n",
    "                     ylab=r'$\\mathcal{R}^{det}_{\\mathrm{channel}}/\\mathcal{R}^{det}(z)$',\n",
    "                   save_plot = True, save_str = sim_save_str+'Frac_Intrinsic_dens', \n",
    "                   y_lim=(0, 1), zorders = [0,1], FIGSIZE=(12,7),\n",
    "                   colors = ['#73bdb3',  '#e388b0'], hatches = ['/', 'x', 'o'])\n"
   ]
  },
  {
   "cell_type": "code",
   "execution_count": 5,
   "metadata": {},
   "outputs": [
    {
     "name": "stdout",
     "output_type": "stream",
     "text": [
      "no z ax\n"
     ]
    },
    {
     "ename": "KeyboardInterrupt",
     "evalue": "",
     "output_type": "error",
     "traceback": [
      "\u001b[0;31m---------------------------------------------------------------------------\u001b[0m",
      "\u001b[0;31mKeyboardInterrupt\u001b[0m                         Traceback (most recent call last)",
      "\u001b[0;32m<ipython-input-5-76e808cb0b65>\u001b[0m in \u001b[0;36m<module>\u001b[0;34m\u001b[0m\n\u001b[1;32m      7\u001b[0m                      \u001b[0mxlab\u001b[0m \u001b[0;34m=\u001b[0m \u001b[0;34m'$M_{\\mathrm{BH,1}} \\ \\mathrm{[M_{\\odot}]}$'\u001b[0m\u001b[0;34m,\u001b[0m\u001b[0;34m\u001b[0m\u001b[0;34m\u001b[0m\u001b[0m\n\u001b[1;32m      8\u001b[0m                    \u001b[0my_lim\u001b[0m\u001b[0;34m=\u001b[0m\u001b[0;34m(\u001b[0m\u001b[0;36m0\u001b[0m\u001b[0;34m,\u001b[0m \u001b[0;36m1\u001b[0m\u001b[0;34m)\u001b[0m\u001b[0;34m,\u001b[0m \u001b[0mzorders\u001b[0m \u001b[0;34m=\u001b[0m \u001b[0;34m[\u001b[0m\u001b[0;36m0\u001b[0m\u001b[0;34m,\u001b[0m\u001b[0;36m1\u001b[0m\u001b[0;34m]\u001b[0m\u001b[0;34m,\u001b[0m \u001b[0mFIGSIZE\u001b[0m\u001b[0;34m=\u001b[0m\u001b[0;34m(\u001b[0m\u001b[0;36m12\u001b[0m\u001b[0;34m,\u001b[0m\u001b[0;36m7\u001b[0m\u001b[0;34m)\u001b[0m\u001b[0;34m,\u001b[0m\u001b[0;34m\u001b[0m\u001b[0;34m\u001b[0m\u001b[0m\n\u001b[0;32m----> 9\u001b[0;31m                    colors = ['#73bdb3',  '#e388b0'], hatches = ['/', 'x', 'o'])\n\u001b[0m\u001b[1;32m     10\u001b[0m \u001b[0;34m\u001b[0m\u001b[0m\n",
      "\u001b[0;32m<ipython-input-3-2c1e8d83c124>\u001b[0m in \u001b[0;36mplot_fractional_rate\u001b[0;34m(table, WEIGHTS, x_key, redshift_list, fill, log, z_firstSF, show_hist, kde_width, KDE_xpointw, bins, tmin, tmax, x_redshift, ylab, xlab, save_plot, save_str, zorders, y_lim, FIGSIZE, colors, hatches)\u001b[0m\n\u001b[1;32m    104\u001b[0m         \u001b[0;32melse\u001b[0m\u001b[0;34m:\u001b[0m\u001b[0;34m\u001b[0m\u001b[0;34m\u001b[0m\u001b[0m\n\u001b[1;32m    105\u001b[0m             \u001b[0mx_vals\u001b[0m       \u001b[0;34m=\u001b[0m \u001b[0mx_array\u001b[0m\u001b[0;34m[\u001b[0m\u001b[0mBool\u001b[0m\u001b[0;34m]\u001b[0m\u001b[0;34m\u001b[0m\u001b[0;34m\u001b[0m\u001b[0m\n\u001b[0;32m--> 106\u001b[0;31m         \u001b[0mm_Weight\u001b[0m         \u001b[0;34m=\u001b[0m \u001b[0mnp\u001b[0m\u001b[0;34m.\u001b[0m\u001b[0msum\u001b[0m\u001b[0;34m(\u001b[0m\u001b[0mN_BBH_zbin_det_frame\u001b[0m\u001b[0;34m[\u001b[0m\u001b[0mBool\u001b[0m\u001b[0;34m,\u001b[0m\u001b[0;34m:\u001b[0m\u001b[0;34m]\u001b[0m\u001b[0;34m,\u001b[0m \u001b[0maxis\u001b[0m \u001b[0;34m=\u001b[0m \u001b[0msum_over_ax\u001b[0m\u001b[0;34m)\u001b[0m\u001b[0;34m\u001b[0m\u001b[0;34m\u001b[0m\u001b[0m\n\u001b[0m\u001b[1;32m    107\u001b[0m \u001b[0;34m\u001b[0m\u001b[0m\n\u001b[1;32m    108\u001b[0m         \u001b[0mprint\u001b[0m\u001b[0;34m(\u001b[0m\u001b[0;34m'N in bool'\u001b[0m\u001b[0;34m,\u001b[0m \u001b[0msum\u001b[0m\u001b[0;34m(\u001b[0m\u001b[0mBool\u001b[0m\u001b[0;34m)\u001b[0m\u001b[0;34m,\u001b[0m \u001b[0;34m'ESS'\u001b[0m\u001b[0;34m,\u001b[0m \u001b[0msum\u001b[0m\u001b[0;34m(\u001b[0m\u001b[0mm_Weight\u001b[0m\u001b[0;34m)\u001b[0m\u001b[0;34m**\u001b[0m\u001b[0;36m2\u001b[0m\u001b[0;34m/\u001b[0m\u001b[0msum\u001b[0m\u001b[0;34m(\u001b[0m\u001b[0mm_Weight\u001b[0m\u001b[0;34m**\u001b[0m\u001b[0;36m2\u001b[0m\u001b[0;34m)\u001b[0m \u001b[0;34m)\u001b[0m\u001b[0;34m\u001b[0m\u001b[0;34m\u001b[0m\u001b[0m\n",
      "\u001b[0;31mKeyboardInterrupt\u001b[0m: "
     ]
    },
    {
     "data": {
      "image/png": "[encoded data removed]",
      "text/plain": [
       "<Figure size 864x504 with 1 Axes>"
      ]
     },
     "metadata": {
      "needs_background": "light"
     },
     "output_type": "display_data"
    }
   ],
   "source": [
    "# Fractional rate per MBH1\n",
    "plot_fractional_rate(merging_BBH, Red_intr_rate_dens, x_key = 'M_moreMassive', redshift_list = redshifts, \n",
    "                   fill = True, kde_width = 0.15,  x_redshift = False,\n",
    "                   bins = np.arange(2,52,1), \n",
    "                     ylab=r'$\\mathcal{R}^{det}_{\\mathrm{channel}}/\\mathcal{R}^{det}_{\\mathrm{Univ}}$',\n",
    "                   save_plot = True, save_str = sim_save_str+'Frac_Intrinsic_permass_1', \n",
    "                     xlab = '$M_{\\mathrm{BH,1}} \\ \\mathrm{[M_{\\odot}]}$',\n",
    "                   y_lim=(0, 1), zorders = [0,1], FIGSIZE=(12,7),\n",
    "                   colors = ['#73bdb3',  '#e388b0'], hatches = ['/', 'x', 'o'])\n",
    "    "
   ]
  },
  {
   "cell_type": "code",
   "execution_count": null,
   "metadata": {},
   "outputs": [],
   "source": [
    "merging_BBH['Mtot'] = merging_BBH['Mass(1)']+merging_BBH['Mass(2)']\n",
    "\n",
    "\n",
    "# Fractional rate per Mtot\n",
    "plot_fractional_rate(merging_BBH, Red_intr_rate_dens, x_key = 'Mtot', redshift_list = redshifts, \n",
    "                   fill = True, kde_width = 0.15, x_redshift = False, \n",
    "                   bins = np.arange(5.,100.5,2.5), \n",
    "                     ylab=r'$\\mathcal{R}^{det}_{\\mathrm{channel}}/\\mathcal{R}^{det}_{\\mathrm{Univ}}$',\n",
    "                   save_plot = True, save_str = sim_save_str+'Frac_Intrinsic_permass_tot', \n",
    "                     xlab = '$M_{\\mathrm{tot}} \\ \\mathrm{[M_{\\odot}]}$',\n",
    "                   y_lim=(0, 1), zorders = [0,1], FIGSIZE=(12,7),\n",
    "                   colors = ['#73bdb3',  '#e388b0'], hatches = ['/', 'x', 'o'])\n",
    "\n"
   ]
  },
  {
   "cell_type": "code",
   "execution_count": null,
   "metadata": {},
   "outputs": [],
   "source": []
  }
 ],
 "metadata": {
  "kernelspec": {
   "display_name": "Python 3",
   "language": "python",
   "name": "python3"
  },
  "language_info": {
   "codemirror_mode": {
    "name": "ipython",
    "version": 3
   },
   "file_extension": ".py",
   "mimetype": "text/x-python",
   "name": "python",
   "nbconvert_exporter": "python",
   "pygments_lexer": "ipython3",
   "version": "3.7.1"
  }
 },
 "nbformat": 4,
 "nbformat_minor": 4
}
